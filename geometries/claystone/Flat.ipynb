{
 "cells": [
  {
   "cell_type": "markdown",
   "metadata": {},
   "source": [
    "#### The manual for using this script is incorporated in the cells. This geometry uses 2 slices simultaneously instead of 1, therefore, model creation is slightly more complex than in most other cases"
   ]
  },
  {
   "cell_type": "code",
   "execution_count": 1,
   "metadata": {},
   "outputs": [
    {
     "name": "stderr",
     "output_type": "stream",
     "text": [
      "<frozen importlib._bootstrap>:228: RuntimeWarning: scipy._lib.messagestream.MessageStream size changed, may indicate binary incompatibility. Expected 56 from C header, got 64 from PyObject\n"
     ]
    },
    {
     "name": "stdout",
     "output_type": "stream",
     "text": [
      "No module named 'osgeo'\n",
      "Not subsurface compatibility available\n"
     ]
    },
    {
     "name": "stderr",
     "output_type": "stream",
     "text": [
      "WARNING (theano.tensor.blas): Using NumPy C-API based implementation for BLAS functions.\n"
     ]
    }
   ],
   "source": [
    "# import all packages\n",
    "import numpy as np\n",
    "import gempy as gp\n",
    "import matplotlib.pyplot as plt\n",
    "import pandas as pd\n",
    "import pyvista as pv\n",
    "from scipy.interpolate import griddata\n",
    "from scipy.interpolate import Rbf\n",
    "from matplotlib import cm\n",
    "import pykrige\n",
    "from pykrige.ok3d import OrdinaryKriging3D\n",
    "from pykrige.uk3d import UniversalKriging3D\n",
    "from scipy.interpolate import RBFInterpolator\n",
    "from geomdl import BSpline\n",
    "from geomdl import utilities as utils\n",
    "import plotly.graph_objects as go\n",
    "import ipywidgets\n",
    "import warnings\n",
    "warnings.filterwarnings(\"ignore\")"
   ]
  },
  {
   "cell_type": "markdown",
   "metadata": {},
   "source": [
    "#### NURBS "
   ]
  },
  {
   "cell_type": "code",
   "execution_count": 2,
   "metadata": {},
   "outputs": [],
   "source": [
    "# no change needed to create  default geometry, just run\n",
    "def NURBS(left_x,right_x,mid_left_x,mid_right_x,top_left_x,top_right_x,top_x,\n",
    "          left_y,right_y,mid_left_y,mid_right_y,top_left_y,top_right_y,top_y,\n",
    "          nr_points=20,fig=True):\n",
    "    \n",
    "    # Create a 3-dimensional B-spline Curve\n",
    "    curve = BSpline.Curve()\n",
    "\n",
    "    # Set degree\n",
    "    curve.degree = 3\n",
    "    # Set control points\n",
    "    ctrlpts = [\n",
    "        [left_x, left_y], [mid_left_x, mid_left_y], [top_left_x, top_left_y],\n",
    "        [top_x, top_y], [top_right_x, top_right_y], [mid_right_x, mid_right_y],\n",
    "        [right_x, right_y]\n",
    "    ]\n",
    "    curve.ctrlpts = ctrlpts\n",
    "\n",
    "    # Set knot vector\n",
    "    curve.knotvector = [0, 0,0, *np.arange(0,1+1/(np.array(curve.ctrlpts).shape[0]-3)-0.0001,1/(np.array(curve.ctrlpts).shape[0]-3)), 1, 1, 1]\n",
    "    curve.knotvector = utils.generate_knot_vector(curve.degree , len(curve.ctrlpts))\n",
    "    # print(curve.knotvector)\n",
    "    # Set evaluation delta (controls the number of curve points)\n",
    "    curve.delta = 1/nr_points\n",
    "\n",
    "    # Get curve points (the curve will be automatically evaluated)\n",
    "    curve_points = curve.evalpts\n",
    "\n",
    "    v=np.array([])\n",
    "    for i in np.arange(0,1,curve.delta):\n",
    "        v = np.append([curve.derivatives(u=i,order=1)[1][0],curve.derivatives(u=i,order=1)[1][1]],v)\n",
    "    v = v.reshape(nr_points,2)\n",
    "    inv = np.arctan2(v[:, 1], v[:, 0])\n",
    "    degree = np.mod(np.degrees(inv), 360)\n",
    "    \n",
    "    if fig:\n",
    "      fig,ax=plt.subplots(figsize=(7,7))\n",
    "      ax.plot(np.array(curve_points)[:,0],np.array(curve_points)[:,1],\"-\")\n",
    "      ax.plot(np.array(curve.ctrlpts)[:,0],np.array(curve.ctrlpts)[:,1],\"o\")\n",
    "      ax.set_xlim(0,20)\n",
    "      ax.set_ylim(0,20)\n",
    "\n",
    "    return curve_points,degree"
   ]
  },
  {
   "cell_type": "markdown",
   "metadata": {},
   "source": [
    "#### Create model"
   ]
  },
  {
   "cell_type": "code",
   "execution_count": 3,
   "metadata": {},
   "outputs": [],
   "source": [
    "# no change needed to create default geometry, just run\n",
    "class clay:\n",
    "\n",
    "    def __init__(self,slice_nr = 2,\n",
    "                 slice_1_parameter = None,\n",
    "                 slice_2_parameter = None,\n",
    "                 slice_1_pos = 10,\n",
    "                 slice_2_pos = 10,\n",
    "                 formation = None):\n",
    "        \n",
    "\n",
    "        self.slice_nr = slice_nr\n",
    "\n",
    "        self.slider_1, self.degree_1 = slice_1_parameter\n",
    "        self.slider_2, self.degree_2= slice_2_parameter\n",
    "\n",
    "        self.slice_pos_1 = slice_1_pos\n",
    "        self.slice_pos_2 = slice_2_pos\n",
    "        self.formation = formation\n",
    "\n",
    "    def get_input_points(self):\n",
    "        x_slice_points = self.slider_1\n",
    "        y_slice_points = self.slider_2\n",
    "\n",
    "        return x_slice_points,y_slice_points\n",
    "\n",
    "    def set_input_data(self):\n",
    "\n",
    "        x_slice_points = self.slider_1\n",
    "        y_slice_points = self.slider_2\n",
    " \n",
    "        # nr_1 = np.array(x_slice_points).shape[0]\n",
    "        # nr_2 = np.array(y_slice_points).shape[0]\n",
    "\n",
    "        x_slice = [np.array(x_slice_points)[:,0],\n",
    "                   np.ones(len(x_slice_points))*self.slice_pos_1,\n",
    "                   np.array(x_slice_points)[:,1]]\n",
    "        x_slice = pd.DataFrame((np.array(x_slice).T),columns=('x','y','z'))\n",
    "\n",
    "        y_slice = [np.ones(len(y_slice_points))*self.slice_pos_2,\n",
    "                   np.array(y_slice_points)[:,0],\n",
    "                   np.array(y_slice_points)[:,1]]\n",
    "        y_slice = pd.DataFrame((np.array(y_slice).T),columns=('x','y','z'))\n",
    "\n",
    "        formation = pd.DataFrame(data={'formation':[self.formation]*(len(x_slice) + len(y_slice))})\n",
    "\n",
    "        surface = pd.concat([pd.concat([x_slice,y_slice],ignore_index=True),formation],axis=1)\n",
    "        orientation_1 = pd.DataFrame(data={\"dip\":self.degree_1-180,\"azimuth\":['90']*len(x_slice),\"polarity\":['1']*len(x_slice)})\n",
    "        orientation_2 = pd.DataFrame(data={\"dip\":self.degree_2-180,\"azimuth\":['0']*len(y_slice),\"polarity\":['1']*len(y_slice)})\n",
    "\n",
    "        # orientation_1 = pd.DataFrame(data={\"x\":[10],\"y\":[10],\"z\":[0],\"formation\":['clay'],\"dip\":['0'],\"azimuth\":['0'],\"polarity\":['1']})\n",
    "\n",
    "        # orientation_2 = pd.DataFrame(data={\"x\":[np.array(x_slice_points)[:,0][np.argmax(np.array(x_slice_points)[:,1])]],\"y\":[self.slice_pos_1],\"z\":[np.array(x_slice_points)[:,1].max()],\n",
    "        #                                    \"formation\":['clay'],\"dip\":['180'],\"azimuth\":['0'],\"polarity\":['1']})\n",
    "        # orientation_3 = pd.DataFrame(data={\"x\":[self.slice_pos_2],\"y\":[np.array(y_slice_points)[:,0][np.argmax(np.array(y_slice_points)[:,1])]],\"z\":[np.array(y_slice_points)[:,1].max()],\n",
    "        #                                    \"formation\":['clay'],\"dip\":['180'],\"azimuth\":['0'],\"polarity\":['1']})\n",
    "        \n",
    "        orientation = pd.concat([surface,pd.concat([orientation_1,orientation_2],ignore_index=True)],axis=1)\n",
    "        return orientation,surface"
   ]
  },
  {
   "cell_type": "code",
   "execution_count": 4,
   "metadata": {},
   "outputs": [],
   "source": [
    "# set default value for flat clay. Only needed if you want to change the appearance of the geometry shown by default when running cells below. \n",
    "#We would recommend working with the sliders instead (see below)\n",
    "\n",
    "def choose_standard_model(model):\n",
    "\n",
    "    if  model == 'clay_slice_1':\n",
    "        left_x_1 = ipywidgets.FloatSlider(value=0,min=0.0, max=20.0,description='left x')\n",
    "        right_x_1 = ipywidgets.FloatSlider(value=20,min=0.0, max=20.0,description='right x')\n",
    "        mid_left_x_1 = ipywidgets.FloatSlider(value=3,min=0.0, max=20.0,description='mid left x')\n",
    "        mid_right_x_1 = ipywidgets.FloatSlider(value=17,min=0.0, max=20.0,description='mid right x')\n",
    "        top_left_x_1 = ipywidgets.FloatSlider(value=7,min=0.0, max=20.0,description='top left x')\n",
    "        top_right_x_1 = ipywidgets.FloatSlider(value=13,min=0.0, max=20.0,description='top right x')\n",
    "        top_x_1 = ipywidgets.FloatSlider(value=10,min=0.0, max=20.0,description='top x')\n",
    "\n",
    "        left_y_1 = ipywidgets.FloatSlider(value=5,min=0.0, max=20.0, orientation='vertical',description='left y')\n",
    "        right_y_1 = ipywidgets.FloatSlider(value=5,min=0.0, max=20.0, orientation='vertical',description='right y')\n",
    "        mid_left_y_1 = ipywidgets.FloatSlider(value=5,min=0.0, max=20.0, orientation='vertical',description='mid left y')\n",
    "        mid_right_y_1 = ipywidgets.FloatSlider(value=5,min=0.0, max=20.0, orientation='vertical',description='mid right y')\n",
    "        top_left_y_1 = ipywidgets.FloatSlider(value=5,min=0.0, max=20.0, orientation='vertical',description='top left y')\n",
    "        top_right_y_1 = ipywidgets.FloatSlider(value=5,min=0.0, max=20.0, orientation='vertical',description='top right y')\n",
    "        top_y_1 = ipywidgets.FloatSlider(value=5,min=0.0, max=20.0, orientation='vertical',description='top y')\n",
    "\n",
    "        left_x_2 = ipywidgets.FloatSlider(value=0,min=0.0, max=20.0,description='left x')\n",
    "        right_x_2 = ipywidgets.FloatSlider(value=20,min=0.0, max=20.0,description='right x')\n",
    "        mid_left_x_2 = ipywidgets.FloatSlider(value=3,min=0.0, max=20.0,description='mid left x')\n",
    "        mid_right_x_2 = ipywidgets.FloatSlider(value=17,min=0.0, max=20.0,description='mid right x')\n",
    "        top_left_x_2 = ipywidgets.FloatSlider(value=7,min=0.0, max=20.0,description='top left x')\n",
    "        top_right_x_2 = ipywidgets.FloatSlider(value=13,min=0.0, max=20.0,description='top right x')\n",
    "        top_x_2 = ipywidgets.FloatSlider(value=10,min=0.0, max=20.0,description='top x')\n",
    "\n",
    "        left_y_2 = ipywidgets.FloatSlider(value=5,min=0.0, max=20.0, orientation='vertical',description='left y')\n",
    "        right_y_2 = ipywidgets.FloatSlider(value=5,min=0.0, max=20.0, orientation='vertical',description='right y')\n",
    "        mid_left_y_2 = ipywidgets.FloatSlider(value=5,min=0.0, max=20.0, orientation='vertical',description='mid left y')\n",
    "        mid_right_y_2 = ipywidgets.FloatSlider(value=5,min=0.0, max=20.0, orientation='vertical',description='mid right y')\n",
    "        top_left_y_2 = ipywidgets.FloatSlider(value=5,min=0.0, max=20.0, orientation='vertical',description='top left y')\n",
    "        top_right_y_2 = ipywidgets.FloatSlider(value=5,min=0.0, max=20.0, orientation='vertical',description='top right y')\n",
    "        top_y_2 = ipywidgets.FloatSlider(value=5,min=0.0, max=20.0, orientation='vertical',description='top y')\n",
    "\n",
    "        nr_points_1 = ipywidgets.IntSlider(value=20,min=10, max=100, step=5,description='nr sampled from curve')\n",
    "        nr_points_2 = ipywidgets.IntSlider(value=20,min=10, max=100, step=5,description='nr sampled from curve')\n",
    "\n",
    "    elif  model == 'clay_slice_2':\n",
    "        left_x_1 = ipywidgets.FloatSlider(value=0,min=0.0, max=20.0,description='left x')\n",
    "        right_x_1 = ipywidgets.FloatSlider(value=20,min=0.0, max=20.0,description='right x')\n",
    "        mid_left_x_1 = ipywidgets.FloatSlider(value=3,min=0.0, max=20.0,description='mid left x')\n",
    "        mid_right_x_1 = ipywidgets.FloatSlider(value=17,min=0.0, max=20.0,description='mid right x')\n",
    "        top_left_x_1 = ipywidgets.FloatSlider(value=7,min=0.0, max=20.0,description='top left x')\n",
    "        top_right_x_1 = ipywidgets.FloatSlider(value=13,min=0.0, max=20.0,description='top right x')\n",
    "        top_x_1 = ipywidgets.FloatSlider(value=10,min=0.0, max=20.0,description='top x')\n",
    "\n",
    "        left_y_1 = ipywidgets.FloatSlider(value=7,min=0.0, max=20.0, orientation='vertical',description='left y')\n",
    "        right_y_1 = ipywidgets.FloatSlider(value=7,min=0.0, max=20.0, orientation='vertical',description='right y')\n",
    "        mid_left_y_1 = ipywidgets.FloatSlider(value=7,min=0.0, max=20.0, orientation='vertical',description='mid left y')\n",
    "        mid_right_y_1 = ipywidgets.FloatSlider(value=7,min=0.0, max=20.0, orientation='vertical',description='mid right y')\n",
    "        top_left_y_1 = ipywidgets.FloatSlider(value=7,min=0.0, max=20.0, orientation='vertical',description='top left y')\n",
    "        top_right_y_1 = ipywidgets.FloatSlider(value=7,min=0.0, max=20.0, orientation='vertical',description='top right y')\n",
    "        top_y_1 = ipywidgets.FloatSlider(value=7,min=0.0, max=20.0, orientation='vertical',description='top y')\n",
    "\n",
    "        left_x_2 = ipywidgets.FloatSlider(value=0,min=0.0, max=20.0,description='left x')\n",
    "        right_x_2 = ipywidgets.FloatSlider(value=20,min=0.0, max=20.0,description='right x')\n",
    "        mid_left_x_2 = ipywidgets.FloatSlider(value=3,min=0.0, max=20.0,description='mid left x')\n",
    "        mid_right_x_2 = ipywidgets.FloatSlider(value=17,min=0.0, max=20.0,description='mid right x')\n",
    "        top_left_x_2 = ipywidgets.FloatSlider(value=7,min=0.0, max=20.0,description='top left x')\n",
    "        top_right_x_2 = ipywidgets.FloatSlider(value=13,min=0.0, max=20.0,description='top right x')\n",
    "        top_x_2 = ipywidgets.FloatSlider(value=10,min=0.0, max=20.0,description='top x')\n",
    "\n",
    "        left_y_2 = ipywidgets.FloatSlider(value=7,min=0.0, max=20.0, orientation='vertical',description='left y')\n",
    "        right_y_2 = ipywidgets.FloatSlider(value=7,min=0.0, max=20.0, orientation='vertical',description='right y')\n",
    "        mid_left_y_2 = ipywidgets.FloatSlider(value=7,min=0.0, max=20.0, orientation='vertical',description='mid left y')\n",
    "        mid_right_y_2 = ipywidgets.FloatSlider(value=7,min=0.0, max=20.0, orientation='vertical',description='mid right y')\n",
    "        top_left_y_2 = ipywidgets.FloatSlider(value=7,min=0.0, max=20.0, orientation='vertical',description='top left y')\n",
    "        top_right_y_2 = ipywidgets.FloatSlider(value=7,min=0.0, max=20.0, orientation='vertical',description='top right y')\n",
    "        top_y_2 = ipywidgets.FloatSlider(value=7,min=0.0, max=20.0, orientation='vertical',description='top y')\n",
    "\n",
    "        nr_points_1 = ipywidgets.IntSlider(value=20,min=10, max=100, step=5,description='nr sampled from curve')\n",
    "        nr_points_2 = ipywidgets.IntSlider(value=20,min=10, max=100, step=5,description='nr sampled from curve')\n",
    "\n",
    "\n",
    "    return left_x_1,right_x_1,mid_left_x_1,mid_right_x_1,top_left_x_1,top_right_x_1,top_x_1,left_x_2,right_x_2,mid_left_x_2,mid_right_x_2,top_left_x_2,top_right_x_2,top_x_2,left_y_1,right_y_1,mid_left_y_1,mid_right_y_1,top_left_y_1,top_right_y_1,top_y_1,left_y_2,right_y_2,mid_left_y_2,mid_right_y_2,top_left_y_2,top_right_y_2,top_y_2,nr_points_1,nr_points_2"
   ]
  },
  {
   "cell_type": "markdown",
   "metadata": {},
   "source": [
    "# make your clay shape here\n",
    "\n",
    "### slider_1 is x_slice and slider_2 is y_slice \n",
    "\n",
    "\n",
    "#### left : the bottom left control point of NURBS \n",
    "\n",
    "#### right : the bottom right control point of NURBS \n",
    "\n",
    "#### mid_left: the left control point of NURBS at 33% thickness \n",
    "\n",
    "#### mid_right: the right control point of NURBS at 33% thickness \n",
    "\n",
    "#### top_left: the left control point of NURBS at 66% thickness \n",
    "\n",
    "#### top_right: the right control point of NURBS at 66% thickness \n",
    "\n",
    "#### top : top control point "
   ]
  },
  {
   "cell_type": "code",
   "execution_count": 5,
   "metadata": {},
   "outputs": [
    {
     "data": {
      "application/vnd.jupyter.widget-view+json": {
       "model_id": "1940852697ba413bbb40aa28b2e5c027",
       "version_major": 2,
       "version_minor": 0
      },
      "text/plain": [
       "ToggleButtons(description='choose standard model:', options=('clay_slice_1', 'clay_slice_2'), value='clay_slic…"
      ]
     },
     "metadata": {},
     "output_type": "display_data"
    }
   ],
   "source": [
    "# no change needed to create  default geometry, just run\n",
    "# afterwards, select slice you want to customize (to create default geometry, no customization needed in the following steps) \n",
    "button = ipywidgets.ToggleButtons(\n",
    "    options=['clay_slice_1', 'clay_slice_2'],\n",
    "    description='choose standard model:',\n",
    "    disabled=False\n",
    ")\n",
    "display(button)"
   ]
  },
  {
   "cell_type": "code",
   "execution_count": 8,
   "metadata": {},
   "outputs": [
    {
     "data": {
      "application/vnd.jupyter.widget-view+json": {
       "model_id": "d596ad542a0446baace8e14c36333229",
       "version_major": 2,
       "version_minor": 0
      },
      "text/plain": [
       "HBox(children=(VBox(children=(FloatSlider(value=0.0, description='left x', max=20.0), FloatSlider(value=3.0, d…"
      ]
     },
     "metadata": {},
     "output_type": "display_data"
    },
    {
     "data": {
      "application/vnd.jupyter.widget-view+json": {
       "model_id": "330ade288b1e4f69ad158a76833f81e4",
       "version_major": 2,
       "version_minor": 0
      },
      "text/plain": [
       "Output()"
      ]
     },
     "metadata": {},
     "output_type": "display_data"
    },
    {
     "data": {
      "application/vnd.jupyter.widget-view+json": {
       "model_id": "339a5948908b474489be6a6cb4d4a762",
       "version_major": 2,
       "version_minor": 0
      },
      "text/plain": [
       "HBox(children=(VBox(children=(FloatSlider(value=0.0, description='left x', max=20.0), FloatSlider(value=3.0, d…"
      ]
     },
     "metadata": {},
     "output_type": "display_data"
    },
    {
     "data": {
      "application/vnd.jupyter.widget-view+json": {
       "model_id": "015a61e9c87d43b597f0311c906e2ba9",
       "version_major": 2,
       "version_minor": 0
      },
      "text/plain": [
       "Output()"
      ]
     },
     "metadata": {},
     "output_type": "display_data"
    }
   ],
   "source": [
    "# after running this cell, the chosen slice can be customized freely by dragging the sliders\n",
    "out = choose_standard_model(model=button.value)\n",
    "left_x_1,right_x_1,mid_left_x_1,mid_right_x_1,top_left_x_1,top_right_x_1,top_x_1,left_x_2,right_x_2,mid_left_x_2,mid_right_x_2,top_left_x_2,top_right_x_2,top_x_2,left_y_1,right_y_1,mid_left_y_1,mid_right_y_1,top_left_y_1,top_right_y_1,top_y_1,left_y_2,right_y_2,mid_left_y_2,mid_right_y_2,top_left_y_2,top_right_y_2,top_y_2,nr_points_1,nr_points_2 = out\n",
    "slider_1 = ipywidgets.interactive_output(NURBS,\n",
    "                    {\"left_x\":left_x_1,\n",
    "                    \"right_x\":right_x_1,\n",
    "                    \"mid_left_x\":mid_left_x_1,\n",
    "                    \"mid_right_x\":mid_right_x_1,\n",
    "                    \"top_left_x\":top_left_x_1,\n",
    "                    \"top_right_x\":top_right_x_1,\n",
    "                    \"top_x\":top_x_1,\n",
    "                    \"left_y\":left_y_1,\n",
    "                    \"right_y\":right_y_1,\n",
    "                    \"mid_left_y\":mid_left_y_1,\n",
    "                    \"mid_right_y\":mid_right_y_1,\n",
    "                    \"top_left_y\":top_left_y_1,\n",
    "                    \"top_right_y\":top_right_y_1,\n",
    "                    \"top_y\":top_y_1,\n",
    "                    \"nr_points\":nr_points_1})\n",
    "ui_1_x = ipywidgets.VBox([left_x_1,mid_left_x_1,top_left_x_1,top_x_1,top_right_x_1,mid_right_x_1,right_x_1,nr_points_1])\n",
    "ui_2_x = ipywidgets.HBox([left_y_1,mid_left_y_1,top_left_y_1,top_y_1,top_right_y_1,mid_right_y_1,right_y_1])\n",
    "\n",
    "ui_x = ipywidgets.HBox([ui_1_x,ui_2_x])\n",
    "display(ui_x,slider_1)\n",
    "slider_2 = ipywidgets.interactive_output(NURBS,\n",
    "                    {\"left_x\":left_x_2,\n",
    "                    \"right_x\":right_x_2,\n",
    "                    \"mid_left_x\":mid_left_x_2,\n",
    "                    \"mid_right_x\":mid_right_x_2,\n",
    "                    \"top_left_x\":top_left_x_2,\n",
    "                    \"top_right_x\":top_right_x_2,\n",
    "                    \"top_x\":top_x_2,\n",
    "                    \"left_y\":left_y_2,\n",
    "                    \"right_y\":right_y_2,\n",
    "                    \"mid_left_y\":mid_left_y_2,\n",
    "                    \"mid_right_y\":mid_right_y_2,\n",
    "                    \"top_left_y\":top_left_y_2,\n",
    "                    \"top_right_y\":top_right_y_2,\n",
    "                    \"top_y\":top_y_2,\n",
    "                    \"nr_points\":nr_points_2})\n",
    "ui_1_y = ipywidgets.VBox([left_x_2,mid_left_x_2,top_left_x_2,top_x_2,top_right_x_2,mid_right_x_2,right_x_2,nr_points_2])\n",
    "ui_2_y = ipywidgets.HBox([left_y_2,mid_left_y_2,top_left_y_2,top_y_2,top_right_y_2,mid_right_y_2,right_y_2])\n",
    "\n",
    "ui_y = ipywidgets.HBox([ui_1_y,ui_2_y])\n",
    "display(ui_y,slider_2)"
   ]
  },
  {
   "cell_type": "code",
   "execution_count": 7,
   "metadata": {},
   "outputs": [],
   "source": [
    "#when finished working on the first slice, run this cell. Then go back 2 cells, select the 2nd slice, run the following cell and customize the second slice\n",
    "slice_1 = NURBS(left_x_1.value,right_x_1.value,mid_left_x_1.value,mid_right_x_1.value,top_left_x_1.value,top_right_x_1.value,top_x_1.value,\n",
    "                          left_y_1.value,right_y_1.value,mid_left_y_1.value,mid_right_y_1.value,top_left_y_1.value,top_right_y_1.value,top_y_1.value,\n",
    "                          nr_points_1.value,fig=False)\n",
    "slice_2 = NURBS(left_x_2.value,right_x_2.value,mid_left_x_2.value,mid_right_x_2.value,top_left_x_2.value,top_right_x_2.value,top_x_2.value,\n",
    "                          left_y_2.value,right_y_2.value,mid_left_y_2.value,mid_right_y_2.value,top_left_y_2.value,top_right_y_2.value,top_y_2.value,\n",
    "                          nr_points_2.value,fig=False)\n"
   ]
  },
  {
   "cell_type": "code",
   "execution_count": 9,
   "metadata": {},
   "outputs": [],
   "source": [
    "#when finished working on the second slice as well, run this cell\n",
    "slice_3 = NURBS(left_x_1.value,right_x_1.value,mid_left_x_1.value,mid_right_x_1.value,top_left_x_1.value,top_right_x_1.value,top_x_1.value,\n",
    "                          left_y_1.value,right_y_1.value,mid_left_y_1.value,mid_right_y_1.value,top_left_y_1.value,top_right_y_1.value,top_y_1.value,\n",
    "                          nr_points_1.value,fig=False)\n",
    "slice_4 = NURBS(left_x_2.value,right_x_2.value,mid_left_x_2.value,mid_right_x_2.value,top_left_x_2.value,top_right_x_2.value,top_x_2.value,\n",
    "                          left_y_2.value,right_y_2.value,mid_left_y_2.value,mid_right_y_2.value,top_left_y_2.value,top_right_y_2.value,top_y_2.value,\n",
    "                          nr_points_2.value,fig=False)"
   ]
  },
  {
   "cell_type": "code",
   "execution_count": 10,
   "metadata": {},
   "outputs": [],
   "source": [
    "#after customizing both slices, run this cell. Here, you can also edit the position of the slices in the grid (1-20) to decide which part of the geometry shall be changed accordingly\n",
    "orientation_1,surface_1 = clay(slice_1_parameter=slice_1,slice_2_parameter=slice_2,slice_1_pos=10,slice_2_pos=10,formation = 'clay_1').set_input_data()\n",
    "orientation_2,surface_2 = clay(slice_1_parameter=slice_3,slice_2_parameter=slice_4,slice_1_pos=9,slice_2_pos=10, formation = 'clay_2').set_input_data()"
   ]
  },
  {
   "cell_type": "code",
   "execution_count": 11,
   "metadata": {},
   "outputs": [],
   "source": [
    "surface_all = pd.concat([surface_1,surface_2],ignore_index=True)\n",
    "orientation_all = pd.concat([orientation_1,orientation_2],ignore_index=True)"
   ]
  },
  {
   "cell_type": "code",
   "execution_count": 14,
   "metadata": {},
   "outputs": [
    {
     "name": "stdout",
     "output_type": "stream",
     "text": [
      "Active grids: ['regular']\n",
      "Setting kriging parameters to their default values.\n",
      "Compiling theano function...\n",
      "Level of Optimization:  fast_compile\n",
      "Device:  cpu\n",
      "Precision:  float64\n",
      "Number of faults:  0\n",
      "Compilation Done!\n",
      "Kriging values: \n",
      "                     values\n",
      "range            34.641016\n",
      "$C_o$            28.571429\n",
      "drift equations        [3]\n"
     ]
    }
   ],
   "source": [
    "geo_model = gp.create_model('clay')\n",
    "gp.init_data(geo_model, [0, 20, 0, 20, 0, 20], [50, 50, 50],\n",
    "                orientations_df = orientation_all,\n",
    "                surface_points_df = surface_all,\n",
    "                default_values=True)\n",
    "geo_model.add_surfaces('basement')\n",
    "gp.set_interpolator(geo_model,\n",
    "                    compile_theano=True,\n",
    "                    theano_optimizer='fast_compile',\n",
    "                    )\n",
    "sol = gp.compute_model(geo_model)\n",
    "gpv = gp.plot_3d(geo_model, image=False, plotter_type='basic',show_data=False)"
   ]
  },
  {
   "cell_type": "code",
   "execution_count": null,
   "metadata": {},
   "outputs": [],
   "source": []
  }
 ],
 "metadata": {
  "kernelspec": {
   "display_name": "Python 3 (ipykernel)",
   "language": "python",
   "name": "python3"
  },
  "language_info": {
   "codemirror_mode": {
    "name": "ipython",
    "version": 3
   },
   "file_extension": ".py",
   "mimetype": "text/x-python",
   "name": "python",
   "nbconvert_exporter": "python",
   "pygments_lexer": "ipython3",
   "version": "3.9.16"
  }
 },
 "nbformat": 4,
 "nbformat_minor": 2
}
